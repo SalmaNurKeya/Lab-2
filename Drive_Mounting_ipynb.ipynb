{
  "nbformat": 4,
  "nbformat_minor": 0,
  "metadata": {
    "colab": {
      "provenance": [],
      "authorship_tag": "ABX9TyMUFavlgy306t2yu3lN+Hsy",
      "include_colab_link": true
    },
    "kernelspec": {
      "name": "python3",
      "display_name": "Python 3"
    },
    "language_info": {
      "name": "python"
    }
  },
  "cells": [
    {
      "cell_type": "markdown",
      "metadata": {
        "id": "view-in-github",
        "colab_type": "text"
      },
      "source": [
        "<a href=\"https://colab.research.google.com/github/SalmaNurKeya/Lab-2/blob/main/Drive_Mounting_ipynb.ipynb\" target=\"_parent\"><img src=\"https://colab.research.google.com/assets/colab-badge.svg\" alt=\"Open In Colab\"/></a>"
      ]
    },
    {
      "cell_type": "code",
      "source": [
        "import pandas as pd\n",
        "from google.colab import drive\n",
        "#mount the drive\n",
        "drive.mount('/content/drive')\n"
      ],
      "metadata": {
        "colab": {
          "base_uri": "https://localhost:8080/"
        },
        "id": "OTM77wnTT6GX",
        "outputId": "e24bc82c-ad36-49ae-b9a7-fd55274e1e85"
      },
      "execution_count": 8,
      "outputs": [
        {
          "output_type": "stream",
          "name": "stdout",
          "text": [
            "Drive already mounted at /content/drive; to attempt to forcibly remount, call drive.mount(\"/content/drive\", force_remount=True).\n"
          ]
        }
      ]
    },
    {
      "cell_type": "code",
      "source": [
        "dataset_path = '/content/drive/MyDrive/Wednesday-workingHours.pcap_ISCX.csv'\n",
        "\n",
        "df = pd.read_csv(dataset_path)"
      ],
      "metadata": {
        "id": "mxp31434mWK-"
      },
      "execution_count": 9,
      "outputs": []
    },
    {
      "cell_type": "code",
      "source": [
        "df.info()"
      ],
      "metadata": {
        "colab": {
          "base_uri": "https://localhost:8080/"
        },
        "id": "gkyLZfWN2-uA",
        "outputId": "5d72499f-50b5-4939-ae2b-b4f137a563d4"
      },
      "execution_count": 10,
      "outputs": [
        {
          "output_type": "stream",
          "name": "stdout",
          "text": [
            "<class 'pandas.core.frame.DataFrame'>\n",
            "RangeIndex: 692703 entries, 0 to 692702\n",
            "Data columns (total 79 columns):\n",
            " #   Column                        Non-Null Count   Dtype  \n",
            "---  ------                        --------------   -----  \n",
            " 0    Destination Port             692703 non-null  int64  \n",
            " 1    Flow Duration                692703 non-null  int64  \n",
            " 2    Total Fwd Packets            692703 non-null  int64  \n",
            " 3    Total Backward Packets       692703 non-null  int64  \n",
            " 4   Total Length of Fwd Packets   692703 non-null  int64  \n",
            " 5    Total Length of Bwd Packets  692703 non-null  int64  \n",
            " 6    Fwd Packet Length Max        692703 non-null  int64  \n",
            " 7    Fwd Packet Length Min        692703 non-null  int64  \n",
            " 8    Fwd Packet Length Mean       692703 non-null  float64\n",
            " 9    Fwd Packet Length Std        692703 non-null  float64\n",
            " 10  Bwd Packet Length Max         692703 non-null  int64  \n",
            " 11   Bwd Packet Length Min        692703 non-null  int64  \n",
            " 12   Bwd Packet Length Mean       692703 non-null  float64\n",
            " 13   Bwd Packet Length Std        692703 non-null  float64\n",
            " 14  Flow Bytes/s                  691695 non-null  float64\n",
            " 15   Flow Packets/s               692703 non-null  float64\n",
            " 16   Flow IAT Mean                692703 non-null  float64\n",
            " 17   Flow IAT Std                 692703 non-null  float64\n",
            " 18   Flow IAT Max                 692703 non-null  int64  \n",
            " 19   Flow IAT Min                 692703 non-null  int64  \n",
            " 20  Fwd IAT Total                 692703 non-null  int64  \n",
            " 21   Fwd IAT Mean                 692703 non-null  float64\n",
            " 22   Fwd IAT Std                  692703 non-null  float64\n",
            " 23   Fwd IAT Max                  692703 non-null  int64  \n",
            " 24   Fwd IAT Min                  692703 non-null  int64  \n",
            " 25  Bwd IAT Total                 692703 non-null  int64  \n",
            " 26   Bwd IAT Mean                 692703 non-null  float64\n",
            " 27   Bwd IAT Std                  692703 non-null  float64\n",
            " 28   Bwd IAT Max                  692703 non-null  int64  \n",
            " 29   Bwd IAT Min                  692703 non-null  int64  \n",
            " 30  Fwd PSH Flags                 692703 non-null  int64  \n",
            " 31   Bwd PSH Flags                692703 non-null  int64  \n",
            " 32   Fwd URG Flags                692703 non-null  int64  \n",
            " 33   Bwd URG Flags                692703 non-null  int64  \n",
            " 34   Fwd Header Length            692703 non-null  int64  \n",
            " 35   Bwd Header Length            692703 non-null  int64  \n",
            " 36  Fwd Packets/s                 692703 non-null  float64\n",
            " 37   Bwd Packets/s                692703 non-null  float64\n",
            " 38   Min Packet Length            692703 non-null  int64  \n",
            " 39   Max Packet Length            692703 non-null  int64  \n",
            " 40   Packet Length Mean           692703 non-null  float64\n",
            " 41   Packet Length Std            692703 non-null  float64\n",
            " 42   Packet Length Variance       692703 non-null  float64\n",
            " 43  FIN Flag Count                692703 non-null  int64  \n",
            " 44   SYN Flag Count               692703 non-null  int64  \n",
            " 45   RST Flag Count               692703 non-null  int64  \n",
            " 46   PSH Flag Count               692703 non-null  int64  \n",
            " 47   ACK Flag Count               692703 non-null  int64  \n",
            " 48   URG Flag Count               692703 non-null  int64  \n",
            " 49   CWE Flag Count               692703 non-null  int64  \n",
            " 50   ECE Flag Count               692703 non-null  int64  \n",
            " 51   Down/Up Ratio                692703 non-null  int64  \n",
            " 52   Average Packet Size          692703 non-null  float64\n",
            " 53   Avg Fwd Segment Size         692703 non-null  float64\n",
            " 54   Avg Bwd Segment Size         692703 non-null  float64\n",
            " 55   Fwd Header Length.1          692703 non-null  int64  \n",
            " 56  Fwd Avg Bytes/Bulk            692703 non-null  int64  \n",
            " 57   Fwd Avg Packets/Bulk         692703 non-null  int64  \n",
            " 58   Fwd Avg Bulk Rate            692703 non-null  int64  \n",
            " 59   Bwd Avg Bytes/Bulk           692703 non-null  int64  \n",
            " 60   Bwd Avg Packets/Bulk         692703 non-null  int64  \n",
            " 61  Bwd Avg Bulk Rate             692703 non-null  int64  \n",
            " 62  Subflow Fwd Packets           692703 non-null  int64  \n",
            " 63   Subflow Fwd Bytes            692703 non-null  int64  \n",
            " 64   Subflow Bwd Packets          692703 non-null  int64  \n",
            " 65   Subflow Bwd Bytes            692703 non-null  int64  \n",
            " 66  Init_Win_bytes_forward        692703 non-null  int64  \n",
            " 67   Init_Win_bytes_backward      692703 non-null  int64  \n",
            " 68   act_data_pkt_fwd             692703 non-null  int64  \n",
            " 69   min_seg_size_forward         692703 non-null  int64  \n",
            " 70  Active Mean                   692703 non-null  float64\n",
            " 71   Active Std                   692703 non-null  float64\n",
            " 72   Active Max                   692703 non-null  int64  \n",
            " 73   Active Min                   692703 non-null  int64  \n",
            " 74  Idle Mean                     692703 non-null  float64\n",
            " 75   Idle Std                     692703 non-null  float64\n",
            " 76   Idle Max                     692703 non-null  int64  \n",
            " 77   Idle Min                     692703 non-null  int64  \n",
            " 78   Label                        692703 non-null  object \n",
            "dtypes: float64(24), int64(54), object(1)\n",
            "memory usage: 417.5+ MB\n"
          ]
        }
      ]
    },
    {
      "cell_type": "code",
      "source": [
        "\n",
        "df.columns"
      ],
      "metadata": {
        "colab": {
          "base_uri": "https://localhost:8080/"
        },
        "id": "U6rVbxNC3Dn4",
        "outputId": "846aaaaf-31a8-4688-c122-6f348fa79797"
      },
      "execution_count": 11,
      "outputs": [
        {
          "output_type": "execute_result",
          "data": {
            "text/plain": [
              "Index([' Destination Port', ' Flow Duration', ' Total Fwd Packets',\n",
              "       ' Total Backward Packets', 'Total Length of Fwd Packets',\n",
              "       ' Total Length of Bwd Packets', ' Fwd Packet Length Max',\n",
              "       ' Fwd Packet Length Min', ' Fwd Packet Length Mean',\n",
              "       ' Fwd Packet Length Std', 'Bwd Packet Length Max',\n",
              "       ' Bwd Packet Length Min', ' Bwd Packet Length Mean',\n",
              "       ' Bwd Packet Length Std', 'Flow Bytes/s', ' Flow Packets/s',\n",
              "       ' Flow IAT Mean', ' Flow IAT Std', ' Flow IAT Max', ' Flow IAT Min',\n",
              "       'Fwd IAT Total', ' Fwd IAT Mean', ' Fwd IAT Std', ' Fwd IAT Max',\n",
              "       ' Fwd IAT Min', 'Bwd IAT Total', ' Bwd IAT Mean', ' Bwd IAT Std',\n",
              "       ' Bwd IAT Max', ' Bwd IAT Min', 'Fwd PSH Flags', ' Bwd PSH Flags',\n",
              "       ' Fwd URG Flags', ' Bwd URG Flags', ' Fwd Header Length',\n",
              "       ' Bwd Header Length', 'Fwd Packets/s', ' Bwd Packets/s',\n",
              "       ' Min Packet Length', ' Max Packet Length', ' Packet Length Mean',\n",
              "       ' Packet Length Std', ' Packet Length Variance', 'FIN Flag Count',\n",
              "       ' SYN Flag Count', ' RST Flag Count', ' PSH Flag Count',\n",
              "       ' ACK Flag Count', ' URG Flag Count', ' CWE Flag Count',\n",
              "       ' ECE Flag Count', ' Down/Up Ratio', ' Average Packet Size',\n",
              "       ' Avg Fwd Segment Size', ' Avg Bwd Segment Size',\n",
              "       ' Fwd Header Length.1', 'Fwd Avg Bytes/Bulk', ' Fwd Avg Packets/Bulk',\n",
              "       ' Fwd Avg Bulk Rate', ' Bwd Avg Bytes/Bulk', ' Bwd Avg Packets/Bulk',\n",
              "       'Bwd Avg Bulk Rate', 'Subflow Fwd Packets', ' Subflow Fwd Bytes',\n",
              "       ' Subflow Bwd Packets', ' Subflow Bwd Bytes', 'Init_Win_bytes_forward',\n",
              "       ' Init_Win_bytes_backward', ' act_data_pkt_fwd',\n",
              "       ' min_seg_size_forward', 'Active Mean', ' Active Std', ' Active Max',\n",
              "       ' Active Min', 'Idle Mean', ' Idle Std', ' Idle Max', ' Idle Min',\n",
              "       ' Label'],\n",
              "      dtype='object')"
            ]
          },
          "metadata": {},
          "execution_count": 11
        }
      ]
    },
    {
      "cell_type": "code",
      "source": [
        "df.shape"
      ],
      "metadata": {
        "colab": {
          "base_uri": "https://localhost:8080/"
        },
        "id": "UZ2dKsMK3Hqj",
        "outputId": "3e6fb658-30e0-4213-a44e-280ade4e3595"
      },
      "execution_count": 12,
      "outputs": [
        {
          "output_type": "execute_result",
          "data": {
            "text/plain": [
              "(692703, 79)"
            ]
          },
          "metadata": {},
          "execution_count": 12
        }
      ]
    },
    {
      "cell_type": "code",
      "source": [
        "\n",
        "# identifying the null values in dataset\n",
        "#by sum() function for each column the null cells will be calculated\n",
        "df.isnull().sum()"
      ],
      "metadata": {
        "colab": {
          "base_uri": "https://localhost:8080/",
          "height": 458
        },
        "id": "KWt8C5Lo3L1D",
        "outputId": "ce7e1e34-f898-4552-c47d-1552c3d68062"
      },
      "execution_count": 13,
      "outputs": [
        {
          "output_type": "execute_result",
          "data": {
            "text/plain": [
              " Destination Port              0\n",
              " Flow Duration                 0\n",
              " Total Fwd Packets             0\n",
              " Total Backward Packets        0\n",
              "Total Length of Fwd Packets    0\n",
              "                              ..\n",
              "Idle Mean                      0\n",
              " Idle Std                      0\n",
              " Idle Max                      0\n",
              " Idle Min                      0\n",
              " Label                         0\n",
              "Length: 79, dtype: int64"
            ],
            "text/html": [
              "<div>\n",
              "<style scoped>\n",
              "    .dataframe tbody tr th:only-of-type {\n",
              "        vertical-align: middle;\n",
              "    }\n",
              "\n",
              "    .dataframe tbody tr th {\n",
              "        vertical-align: top;\n",
              "    }\n",
              "\n",
              "    .dataframe thead th {\n",
              "        text-align: right;\n",
              "    }\n",
              "</style>\n",
              "<table border=\"1\" class=\"dataframe\">\n",
              "  <thead>\n",
              "    <tr style=\"text-align: right;\">\n",
              "      <th></th>\n",
              "      <th>0</th>\n",
              "    </tr>\n",
              "  </thead>\n",
              "  <tbody>\n",
              "    <tr>\n",
              "      <th>Destination Port</th>\n",
              "      <td>0</td>\n",
              "    </tr>\n",
              "    <tr>\n",
              "      <th>Flow Duration</th>\n",
              "      <td>0</td>\n",
              "    </tr>\n",
              "    <tr>\n",
              "      <th>Total Fwd Packets</th>\n",
              "      <td>0</td>\n",
              "    </tr>\n",
              "    <tr>\n",
              "      <th>Total Backward Packets</th>\n",
              "      <td>0</td>\n",
              "    </tr>\n",
              "    <tr>\n",
              "      <th>Total Length of Fwd Packets</th>\n",
              "      <td>0</td>\n",
              "    </tr>\n",
              "    <tr>\n",
              "      <th>...</th>\n",
              "      <td>...</td>\n",
              "    </tr>\n",
              "    <tr>\n",
              "      <th>Idle Mean</th>\n",
              "      <td>0</td>\n",
              "    </tr>\n",
              "    <tr>\n",
              "      <th>Idle Std</th>\n",
              "      <td>0</td>\n",
              "    </tr>\n",
              "    <tr>\n",
              "      <th>Idle Max</th>\n",
              "      <td>0</td>\n",
              "    </tr>\n",
              "    <tr>\n",
              "      <th>Idle Min</th>\n",
              "      <td>0</td>\n",
              "    </tr>\n",
              "    <tr>\n",
              "      <th>Label</th>\n",
              "      <td>0</td>\n",
              "    </tr>\n",
              "  </tbody>\n",
              "</table>\n",
              "<p>79 rows × 1 columns</p>\n",
              "</div><br><label><b>dtype:</b> int64</label>"
            ]
          },
          "metadata": {},
          "execution_count": 13
        }
      ]
    },
    {
      "cell_type": "code",
      "source": [],
      "metadata": {
        "id": "Rycr_y2R3PMp"
      },
      "execution_count": null,
      "outputs": []
    }
  ]
}